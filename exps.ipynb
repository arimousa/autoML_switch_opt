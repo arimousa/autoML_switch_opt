{
 "cells": [
  {
   "cell_type": "code",
   "execution_count": 1,
   "metadata": {},
   "outputs": [
    {
     "name": "stderr",
     "output_type": "stream",
     "text": [
      "/home/tidianes/miniconda3/envs/tid_env/lib/python3.10/site-packages/tqdm/auto.py:22: TqdmWarning: IProgress not found. Please update jupyter and ipywidgets. See https://ipywidgets.readthedocs.io/en/stable/user_install.html\n",
      "  from .autonotebook import tqdm as notebook_tqdm\n"
     ]
    },
    {
     "name": "stdout",
     "output_type": "stream",
     "text": [
      "(tensor([[-3.9469e-02,  7.0699e-01],\n",
      "        [-2.8442e+00,  1.1923e+00],\n",
      "        [-2.0516e+00,  8.2285e-01],\n",
      "        [-1.7920e+00,  2.9813e-01],\n",
      "        [-1.1616e-02,  1.4982e+00],\n",
      "        [-7.2608e-01,  7.0113e-02],\n",
      "        [-1.0080e+00,  1.0074e+00],\n",
      "        [-1.0106e+00,  9.7616e-01],\n",
      "        [-1.6898e+00,  8.8943e-01],\n",
      "        [-2.4478e+00,  3.9666e-01],\n",
      "        [ 4.7989e-01,  1.5188e+00],\n",
      "        [-1.5047e+00,  7.2039e-01],\n",
      "        [-1.8905e+00,  2.0764e+00],\n",
      "        [ 4.0117e-01,  1.5848e+00],\n",
      "        [-4.1033e-01,  8.6681e-01],\n",
      "        [-7.4649e-01,  2.1512e+00],\n",
      "        [ 3.0374e-01,  1.8001e+00],\n",
      "        [-1.6873e+00,  2.7401e+00],\n",
      "        [ 4.3559e-01,  6.9178e-01],\n",
      "        [-6.6909e-01,  1.4294e+00],\n",
      "        [-2.9932e-01, -8.3601e-02],\n",
      "        [-7.1501e-01,  3.4824e-01],\n",
      "        [-1.2149e+00,  1.2529e+00],\n",
      "        [-1.7110e+00,  5.5859e-01],\n",
      "        [ 2.0946e-01,  1.2366e+00],\n",
      "        [-1.9519e+00,  1.1684e+00],\n",
      "        [ 8.1120e-01,  4.3094e-01],\n",
      "        [-1.3513e-01, -2.3607e-01],\n",
      "        [-1.1009e+00,  1.1287e+00],\n",
      "        [ 9.6383e-02,  1.2457e+00],\n",
      "        [-1.5529e+00,  5.3104e-01],\n",
      "        [ 3.8769e-01,  7.7434e-01],\n",
      "        [-1.6590e-01,  1.6363e+00],\n",
      "        [ 3.8835e-01,  8.3172e-01],\n",
      "        [-2.1764e+00,  5.6421e-01],\n",
      "        [ 1.1312e+00, -7.4433e-01],\n",
      "        [ 3.4692e-01,  1.0751e+00],\n",
      "        [-1.6410e+00,  1.1933e+00],\n",
      "        [-2.6767e+00, -4.0936e-01],\n",
      "        [ 8.7271e-01,  1.5175e+00],\n",
      "        [-3.7083e-01,  1.2000e+00],\n",
      "        [ 1.4929e-01,  1.6935e+00],\n",
      "        [-1.6521e+00,  8.0119e-01],\n",
      "        [-1.7739e+00,  1.3963e+00],\n",
      "        [ 7.7363e-01,  8.0054e-01],\n",
      "        [-4.4680e-01, -7.2289e-01],\n",
      "        [-1.3439e+00,  1.0219e+00],\n",
      "        [ 1.1775e+00,  1.7071e+00],\n",
      "        [ 1.0753e-01, -3.0959e-01],\n",
      "        [-3.7903e-01,  2.3354e+00],\n",
      "        [ 1.4025e-03,  8.3816e-01],\n",
      "        [-1.1545e+00, -1.1005e+00],\n",
      "        [-1.8826e+00,  5.5952e-01],\n",
      "        [-3.4255e-02,  8.5163e-01],\n",
      "        [ 5.4466e-01,  1.8395e+00],\n",
      "        [-1.6618e+00,  1.3472e+00],\n",
      "        [-2.1243e-03,  1.7629e+00],\n",
      "        [-1.8947e+00,  8.7817e-01],\n",
      "        [-1.7488e-02,  1.6330e+00],\n",
      "        [-2.5624e-01, -4.5714e-03],\n",
      "        [-1.6690e+00,  9.9936e-01],\n",
      "        [-2.6699e+00,  3.8702e-01],\n",
      "        [-1.2004e+00,  2.3831e+00],\n",
      "        [ 2.2870e-01,  1.7572e+00],\n",
      "        [-3.0570e-01,  1.5294e+00],\n",
      "        [-3.7061e-01,  1.7968e-01],\n",
      "        [-4.6297e-01,  1.7232e+00],\n",
      "        [ 5.9154e-03,  2.2358e+00],\n",
      "        [-9.4205e-01,  3.5755e-01],\n",
      "        [-7.1467e-01,  1.7089e+00],\n",
      "        [ 8.6062e-01,  1.9051e+00],\n",
      "        [ 5.8343e-01,  1.7462e+00],\n",
      "        [-1.3140e+00,  6.9917e-01],\n",
      "        [-8.4604e-02,  1.1403e+00],\n",
      "        [ 1.2379e+00,  1.5279e+00],\n",
      "        [-1.5243e+00,  2.7225e+00],\n",
      "        [ 8.8677e-01,  1.5830e+00],\n",
      "        [-1.9130e+00,  5.8697e-01],\n",
      "        [-4.3704e-01,  1.0473e-01],\n",
      "        [ 7.6170e-01, -2.2681e-01],\n",
      "        [-1.6844e-01,  9.5530e-01],\n",
      "        [-3.3029e+00,  1.4713e+00],\n",
      "        [ 2.1447e-01,  6.2547e-01],\n",
      "        [-4.9851e-02,  2.0931e-02],\n",
      "        [-2.2414e+00,  2.9780e-02],\n",
      "        [-1.5963e-01,  2.1941e+00],\n",
      "        [ 5.7317e-01, -3.0890e-01],\n",
      "        [ 7.0777e-01,  1.6662e+00],\n",
      "        [ 1.9705e-01,  1.8747e+00],\n",
      "        [-1.3435e+00,  1.3253e+00],\n",
      "        [ 4.1389e-01,  2.1106e+00],\n",
      "        [-3.9320e-02,  1.5050e+00],\n",
      "        [-1.2542e+00,  6.4234e-01],\n",
      "        [ 7.3149e-01,  2.0123e+00],\n",
      "        [-7.8355e-01,  1.6915e+00],\n",
      "        [ 8.2054e-01,  1.6750e+00],\n",
      "        [ 1.0735e-01,  1.0383e+00],\n",
      "        [ 5.5364e-01,  1.9858e+00],\n",
      "        [ 9.4377e-01,  1.2620e+00],\n",
      "        [ 3.2272e-01,  6.7874e-01]]), tensor([1., 0., 0., 0., 1., 1., 1., 0., 0., 0., 0., 0., 1., 0., 1., 1., 0., 1.,\n",
      "        1., 1., 1., 1., 1., 0., 1., 0., 0., 1., 0., 0., 0., 0., 0., 1., 0., 1.,\n",
      "        1., 0., 1., 0., 1., 0., 0., 0., 0., 1., 0., 0., 1., 1., 1., 1., 0., 1.,\n",
      "        0., 0., 1., 0., 1., 1., 0., 0., 1., 0., 1., 1., 1., 0., 1., 1., 0., 1.,\n",
      "        0., 1., 1., 1., 0., 0., 1., 1., 1., 1., 1., 1., 0., 1., 1., 0., 0., 0.,\n",
      "        0., 0., 1., 0., 1., 0., 1., 0., 0., 0.]))\n"
     ]
    },
    {
     "name": "stderr",
     "output_type": "stream",
     "text": [
      "/home/tidianes/miniconda3/envs/tid_env/lib/python3.10/site-packages/stable_baselines3/common/env_checker.py:130: UserWarning: Your observation  has an unconventional shape (neither an image, nor a 1D vector). We recommend you to flatten the observation to have only a 1D vector or use a custom policy to properly process the data.\n",
      "  warnings.warn(\n",
      "/home/tidianes/miniconda3/envs/tid_env/lib/python3.10/site-packages/stable_baselines3/ppo/ppo.py:151: UserWarning: You have specified a mini-batch size of 64, but because the `RolloutBuffer` is of size `n_steps * n_envs = 2`, after every 0 untruncated mini-batches, there will be a truncated mini-batch of size 2\n",
      "We recommend using a `batch_size` that is a factor of `n_steps * n_envs`.\n",
      "Info: (n_steps=2 and n_envs=1)\n",
      "  warnings.warn(\n"
     ]
    }
   ],
   "source": [
    "from problem import mlp_problem\n",
    "from environment import Environment\n",
    "from problem import MLP_problem\n",
    "import torch \n",
    "from stable_baselines3.common.env_checker import check_env\n",
    "import stable_baselines3\n",
    "from train_agent import eval_agent\n",
    "\n",
    "MLP_problem = mlp_problem()"
   ]
  },
  {
   "cell_type": "code",
   "execution_count": 2,
   "metadata": {},
   "outputs": [
    {
     "data": {
      "text/plain": [
       "<matplotlib.collections.PathCollection at 0x7f1f7171f6d0>"
      ]
     },
     "execution_count": 2,
     "metadata": {},
     "output_type": "execute_result"
    },
    {
     "data": {
      "image/png": "[encoded data removed]",
      "text/plain": [
       "<Figure size 640x480 with 1 Axes>"
      ]
     },
     "metadata": {},
     "output_type": "display_data"
    }
   ],
   "source": [
    "#plot the dataset\n",
    "import matplotlib.pyplot as plt\n",
    "x,y = MLP_problem[\"dataset\"]\n",
    "plt.scatter(x[:,0],x[:,1],c=y)"
   ]
  },
  {
   "cell_type": "code",
   "execution_count": 3,
   "metadata": {},
   "outputs": [
    {
     "data": {
      "text/plain": [
       "Sequential(\n",
       "  (0): Linear(in_features=2, out_features=2, bias=True)\n",
       "  (1): ReLU()\n",
       "  (2): Linear(in_features=2, out_features=1, bias=True)\n",
       "  (3): Sigmoid()\n",
       ")"
      ]
     },
     "execution_count": 3,
     "metadata": {},
     "output_type": "execute_result"
    }
   ],
   "source": [
    "#show the model\n",
    "MLP_problem[\"model0\"]"
   ]
  },
  {
   "cell_type": "code",
   "execution_count": 4,
   "metadata": {},
   "outputs": [
    {
     "data": {
      "text/plain": [
       "tensor(0.7387, grad_fn=<AddBackward0>)"
      ]
     },
     "execution_count": 4,
     "metadata": {},
     "output_type": "execute_result"
    }
   ],
   "source": [
    "#show the objective function\n",
    "MLP_problem[\"obj_function\"](MLP_problem[\"model0\"])"
   ]
  },
  {
   "cell_type": "code",
   "execution_count": 5,
   "metadata": {},
   "outputs": [],
   "source": [
    "# define the problem list\n",
    "train_problem_list = [mlp_problem() for _ in range(10)]\n",
    "test_problem_list = [mlp_problem()]\n",
    "# number of steps in each episode\n",
    "num_steps = 100\n",
    "optimizer_class_list=[torch.optim.SGD, torch.optim.Adam]\n",
    "\n",
    "train_env = Environment(problem_list = train_problem_list,\n",
    "                num_steps = num_steps, \n",
    "                history_len = 10, \n",
    "                optimizer_class_list = optimizer_class_list\n",
    "                )\n",
    "test_env = Environment(problem_list = test_problem_list,\n",
    "                num_steps = num_steps, \n",
    "                history_len = 10, \n",
    "                optimizer_class_list = optimizer_class_list\n",
    "                )\n",
    "\n",
    "policy = stable_baselines3.PPO('MlpPolicy', train_env, n_steps=2, verbose=0,\n",
    "                                            tensorboard_log='tb_logs/norm')\n"
   ]
  },
  {
   "cell_type": "code",
   "execution_count": 6,
   "metadata": {},
   "outputs": [
    {
     "ename": "",
     "evalue": "",
     "output_type": "error",
     "traceback": [
      "\u001b[1;31mCanceled future for execute_request message before replies were done"
     ]
    },
    {
     "ename": "",
     "evalue": "",
     "output_type": "error",
     "traceback": [
      "\u001b[1;31mThe Kernel crashed while executing code in the the current cell or a previous cell. Please review the code in the cell(s) to identify a possible cause of the failure. Click <a href='https://aka.ms/vscodeJupyterKernelCrash'>here</a> for more info. View Jupyter <a href='command:jupyter.viewOutput'>log</a> for further details."
     ]
    }
   ],
   "source": [
    "\n",
    "actions, rewards = eval_agent(test_env, policy, num_episodes=1, num_steps=100000)\n",
    "plt.plot(rewards, label='untrained')\n",
    "\n",
    "agent_training_timesteps = 1000\n",
    "policy.learn(total_timesteps=agent_training_timesteps)\n",
    "\n",
    "\n",
    "actions, rewards = eval_agent(test_env, policy, num_episodes=1, num_steps=100000)\n",
    "\n",
    "plt.plot(rewards, label='trained')\n",
    "plt.legend()"
   ]
  },
  {
   "cell_type": "code",
   "execution_count": null,
   "metadata": {},
   "outputs": [
    {
     "ename": "NameError",
     "evalue": "name 'get_rewards' is not defined",
     "output_type": "error",
     "traceback": [
      "\u001b[0;31m---------------------------------------------------------------------------\u001b[0m",
      "\u001b[0;31mNameError\u001b[0m                                 Traceback (most recent call last)",
      "\u001b[1;32m/media/tidianes/linux_home/tidiane/dev/automl_lab/autoML_switch_opt/autoML_switch_opt/exps.ipynb Cell 6\u001b[0m in \u001b[0;36m<cell line: 1>\u001b[0;34m()\u001b[0m\n\u001b[0;32m----> <a href='vscode-notebook-cell:/media/tidianes/linux_home/tidiane/dev/automl_lab/autoML_switch_opt/autoML_switch_opt/exps.ipynb#X11sZmlsZQ%3D%3D?line=0'>1</a>\u001b[0m plt\u001b[39m.\u001b[39mplot(get_rewards([torch\u001b[39m.\u001b[39moptim\u001b[39m.\u001b[39mSGD]), label\u001b[39m=\u001b[39m\u001b[39m\"\u001b[39m\u001b[39mSGD\u001b[39m\u001b[39m\"\u001b[39m)\n\u001b[1;32m      <a href='vscode-notebook-cell:/media/tidianes/linux_home/tidiane/dev/automl_lab/autoML_switch_opt/autoML_switch_opt/exps.ipynb#X11sZmlsZQ%3D%3D?line=1'>2</a>\u001b[0m plt\u001b[39m.\u001b[39mplot(get_rewards([torch\u001b[39m.\u001b[39moptim\u001b[39m.\u001b[39mAdam]), label\u001b[39m=\u001b[39m\u001b[39m\"\u001b[39m\u001b[39mAdam\u001b[39m\u001b[39m\"\u001b[39m)\n\u001b[1;32m      <a href='vscode-notebook-cell:/media/tidianes/linux_home/tidiane/dev/automl_lab/autoML_switch_opt/autoML_switch_opt/exps.ipynb#X11sZmlsZQ%3D%3D?line=2'>3</a>\u001b[0m plt\u001b[39m.\u001b[39mplot(get_rewards([torch\u001b[39m.\u001b[39moptim\u001b[39m.\u001b[39mSGD, torch\u001b[39m.\u001b[39moptim\u001b[39m.\u001b[39mAdam]), label\u001b[39m=\u001b[39m\u001b[39m\"\u001b[39m\u001b[39mSGD+Adam\u001b[39m\u001b[39m\"\u001b[39m)\n",
      "\u001b[0;31mNameError\u001b[0m: name 'get_rewards' is not defined"
     ]
    }
   ],
   "source": [
    "\"\"\"\n",
    "\n",
    "plt.plot(get_rewards([torch.optim.SGD]), label=\"SGD\")\n",
    "plt.plot(get_rewards([torch.optim.Adam]), label=\"Adam\")\n",
    "plt.plot(get_rewards([torch.optim.SGD, torch.optim.Adam]), label=\"SGD+Adam\")\n",
    "plt.plot(get_rewards([torch.optim.SGD, torch.optim.Adam], do_train=True), label=\"SGD+Adam trained\")\n",
    "plt.legend()\n",
    "\n",
    "\"\"\""
   ]
  }
 ],
 "metadata": {
  "kernelspec": {
   "display_name": "Python 3.10.6 ('tid_env')",
   "language": "python",
   "name": "python3"
  },
  "language_info": {
   "codemirror_mode": {
    "name": "ipython",
    "version": 3
   },
   "file_extension": ".py",
   "mimetype": "text/x-python",
   "name": "python",
   "nbconvert_exporter": "python",
   "pygments_lexer": "ipython3",
   "version": "3.10.6"
  },
  "orig_nbformat": 4,
  "vscode": {
   "interpreter": {
    "hash": "e4ac7f30aa65cc641f5967c96ff1707a40f829f0dd175c4897139c8c0fb2d9eb"
   }
  }
 },
 "nbformat": 4,
 "nbformat_minor": 2
}
