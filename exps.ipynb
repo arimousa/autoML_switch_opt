{
 "cells": [
  {
   "cell_type": "code",
   "execution_count": 7,
   "metadata": {},
   "outputs": [
    {
     "ename": "ImportError",
     "evalue": "cannot import name 'mlp' from 'problem' (/media/tidianes/linux_home/tidiane/dev/automl_lab/autoML_switch_opt/autoML_switch_opt/problem.py)",
     "output_type": "error",
     "traceback": [
      "\u001b[0;31m---------------------------------------------------------------------------\u001b[0m",
      "\u001b[0;31mImportError\u001b[0m                               Traceback (most recent call last)",
      "\u001b[1;32m/media/tidianes/linux_home/tidiane/dev/automl_lab/autoML_switch_opt/autoML_switch_opt/exps.ipynb Cell 1\u001b[0m in \u001b[0;36m<cell line: 2>\u001b[0;34m()\u001b[0m\n\u001b[1;32m      <a href='vscode-notebook-cell:/media/tidianes/linux_home/tidiane/dev/automl_lab/autoML_switch_opt/autoML_switch_opt/exps.ipynb#W0sZmlsZQ%3D%3D?line=0'>1</a>\u001b[0m \u001b[39mimport\u001b[39;00m \u001b[39mproblem\u001b[39;00m\n\u001b[0;32m----> <a href='vscode-notebook-cell:/media/tidianes/linux_home/tidiane/dev/automl_lab/autoML_switch_opt/autoML_switch_opt/exps.ipynb#W0sZmlsZQ%3D%3D?line=1'>2</a>\u001b[0m \u001b[39mfrom\u001b[39;00m \u001b[39mproblem\u001b[39;00m \u001b[39mimport\u001b[39;00m mlp\n",
      "\u001b[0;31mImportError\u001b[0m: cannot import name 'mlp' from 'problem' (/media/tidianes/linux_home/tidiane/dev/automl_lab/autoML_switch_opt/autoML_switch_opt/problem.py)"
     ]
    }
   ],
   "source": [
    "import problem\n",
    "from problem import mlp"
   ]
  },
  {
   "cell_type": "code",
   "execution_count": 6,
   "metadata": {},
   "outputs": [
    {
     "ename": "AttributeError",
     "evalue": "module 'problem' has no attribute 'mlp'",
     "output_type": "error",
     "traceback": [
      "\u001b[0;31m---------------------------------------------------------------------------\u001b[0m",
      "\u001b[0;31mAttributeError\u001b[0m                            Traceback (most recent call last)",
      "\u001b[1;32m/media/tidianes/linux_home/tidiane/dev/automl_lab/autoML_switch_opt/autoML_switch_opt/exps.ipynb Cell 2\u001b[0m in \u001b[0;36m<cell line: 1>\u001b[0;34m()\u001b[0m\n\u001b[0;32m----> <a href='vscode-notebook-cell:/media/tidianes/linux_home/tidiane/dev/automl_lab/autoML_switch_opt/autoML_switch_opt/exps.ipynb#W3sZmlsZQ%3D%3D?line=0'>1</a>\u001b[0m problem\u001b[39m.\u001b[39;49mmlp()\n",
      "\u001b[0;31mAttributeError\u001b[0m: module 'problem' has no attribute 'mlp'"
     ]
    }
   ],
   "source": [
    "problem.mlp()"
   ]
  },
  {
   "cell_type": "code",
   "execution_count": null,
   "metadata": {},
   "outputs": [],
   "source": [
    "problem = mlp()"
   ]
  },
  {
   "cell_type": "code",
   "execution_count": null,
   "metadata": {},
   "outputs": [],
   "source": [
    "problem[\"model0\"]"
   ]
  }
 ],
 "metadata": {
  "kernelspec": {
   "display_name": "Python 3.10.6 ('tid_env')",
   "language": "python",
   "name": "python3"
  },
  "language_info": {
   "codemirror_mode": {
    "name": "ipython",
    "version": 3
   },
   "file_extension": ".py",
   "mimetype": "text/x-python",
   "name": "python",
   "nbconvert_exporter": "python",
   "pygments_lexer": "ipython3",
   "version": "3.10.6"
  },
  "orig_nbformat": 4,
  "vscode": {
   "interpreter": {
    "hash": "e4ac7f30aa65cc641f5967c96ff1707a40f829f0dd175c4897139c8c0fb2d9eb"
   }
  }
 },
 "nbformat": 4,
 "nbformat_minor": 2
}
